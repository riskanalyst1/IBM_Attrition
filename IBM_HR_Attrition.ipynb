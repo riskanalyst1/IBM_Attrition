{
 "cells": [
  {
   "cell_type": "code",
   "execution_count": 1,
   "id": "5b88fa6c",
   "metadata": {},
   "outputs": [],
   "source": [
    "import pandas as pd\n",
    "import numpy as np\n",
    "import seaborn as sns\n",
    "import matplotlib.pyplot as plt\n",
    "from sklearn.model_selection import train_test_split\n",
    "from sklearn.preprocessing import StandardScaler"
   ]
  },
  {
   "cell_type": "code",
   "execution_count": 2,
   "id": "76995982",
   "metadata": {},
   "outputs": [],
   "source": [
    "df = pd.read_csv(\"WA_Fn-UseC_-HR-Employee-Attrition.csv\")"
   ]
  },
  {
   "cell_type": "code",
   "execution_count": 3,
   "id": "769c9f0b",
   "metadata": {},
   "outputs": [
    {
     "name": "stdout",
     "output_type": "stream",
     "text": [
      "<class 'pandas.core.frame.DataFrame'>\n",
      "RangeIndex: 1470 entries, 0 to 1469\n",
      "Data columns (total 35 columns):\n",
      " #   Column                    Non-Null Count  Dtype \n",
      "---  ------                    --------------  ----- \n",
      " 0   Age                       1470 non-null   int64 \n",
      " 1   Attrition                 1470 non-null   object\n",
      " 2   BusinessTravel            1470 non-null   object\n",
      " 3   DailyRate                 1470 non-null   int64 \n",
      " 4   Department                1470 non-null   object\n",
      " 5   DistanceFromHome          1470 non-null   int64 \n",
      " 6   Education                 1470 non-null   int64 \n",
      " 7   EducationField            1470 non-null   object\n",
      " 8   EmployeeCount             1470 non-null   int64 \n",
      " 9   EmployeeNumber            1470 non-null   int64 \n",
      " 10  EnvironmentSatisfaction   1470 non-null   int64 \n",
      " 11  Gender                    1470 non-null   object\n",
      " 12  HourlyRate                1470 non-null   int64 \n",
      " 13  JobInvolvement            1470 non-null   int64 \n",
      " 14  JobLevel                  1470 non-null   int64 \n",
      " 15  JobRole                   1470 non-null   object\n",
      " 16  JobSatisfaction           1470 non-null   int64 \n",
      " 17  MaritalStatus             1470 non-null   object\n",
      " 18  MonthlyIncome             1470 non-null   int64 \n",
      " 19  MonthlyRate               1470 non-null   int64 \n",
      " 20  NumCompaniesWorked        1470 non-null   int64 \n",
      " 21  Over18                    1470 non-null   object\n",
      " 22  OverTime                  1470 non-null   object\n",
      " 23  PercentSalaryHike         1470 non-null   int64 \n",
      " 24  PerformanceRating         1470 non-null   int64 \n",
      " 25  RelationshipSatisfaction  1470 non-null   int64 \n",
      " 26  StandardHours             1470 non-null   int64 \n",
      " 27  StockOptionLevel          1470 non-null   int64 \n",
      " 28  TotalWorkingYears         1470 non-null   int64 \n",
      " 29  TrainingTimesLastYear     1470 non-null   int64 \n",
      " 30  WorkLifeBalance           1470 non-null   int64 \n",
      " 31  YearsAtCompany            1470 non-null   int64 \n",
      " 32  YearsInCurrentRole        1470 non-null   int64 \n",
      " 33  YearsSinceLastPromotion   1470 non-null   int64 \n",
      " 34  YearsWithCurrManager      1470 non-null   int64 \n",
      "dtypes: int64(26), object(9)\n",
      "memory usage: 402.1+ KB\n"
     ]
    }
   ],
   "source": [
    "df.info()"
   ]
  },
  {
   "cell_type": "markdown",
   "id": "5ae6a169",
   "metadata": {},
   "source": [
    "Dataset has 1470 observations with 35 variables."
   ]
  },
  {
   "cell_type": "code",
   "execution_count": 4,
   "id": "fe83fc60",
   "metadata": {},
   "outputs": [
    {
     "data": {
      "text/plain": [
       "(1470, 35)"
      ]
     },
     "execution_count": 4,
     "metadata": {},
     "output_type": "execute_result"
    }
   ],
   "source": [
    "df.shape"
   ]
  },
  {
   "cell_type": "code",
   "execution_count": 5,
   "id": "4b76dd08",
   "metadata": {
    "scrolled": true
   },
   "outputs": [
    {
     "data": {
      "text/html": [
       "<div>\n",
       "<style scoped>\n",
       "    .dataframe tbody tr th:only-of-type {\n",
       "        vertical-align: middle;\n",
       "    }\n",
       "\n",
       "    .dataframe tbody tr th {\n",
       "        vertical-align: top;\n",
       "    }\n",
       "\n",
       "    .dataframe thead th {\n",
       "        text-align: right;\n",
       "    }\n",
       "</style>\n",
       "<table border=\"1\" class=\"dataframe\">\n",
       "  <thead>\n",
       "    <tr style=\"text-align: right;\">\n",
       "      <th></th>\n",
       "      <th>Age</th>\n",
       "      <th>Attrition</th>\n",
       "      <th>BusinessTravel</th>\n",
       "      <th>DailyRate</th>\n",
       "      <th>Department</th>\n",
       "      <th>DistanceFromHome</th>\n",
       "      <th>Education</th>\n",
       "      <th>EducationField</th>\n",
       "      <th>EmployeeCount</th>\n",
       "      <th>EmployeeNumber</th>\n",
       "      <th>...</th>\n",
       "      <th>RelationshipSatisfaction</th>\n",
       "      <th>StandardHours</th>\n",
       "      <th>StockOptionLevel</th>\n",
       "      <th>TotalWorkingYears</th>\n",
       "      <th>TrainingTimesLastYear</th>\n",
       "      <th>WorkLifeBalance</th>\n",
       "      <th>YearsAtCompany</th>\n",
       "      <th>YearsInCurrentRole</th>\n",
       "      <th>YearsSinceLastPromotion</th>\n",
       "      <th>YearsWithCurrManager</th>\n",
       "    </tr>\n",
       "  </thead>\n",
       "  <tbody>\n",
       "    <tr>\n",
       "      <th>0</th>\n",
       "      <td>41</td>\n",
       "      <td>Yes</td>\n",
       "      <td>Travel_Rarely</td>\n",
       "      <td>1102</td>\n",
       "      <td>Sales</td>\n",
       "      <td>1</td>\n",
       "      <td>2</td>\n",
       "      <td>Life Sciences</td>\n",
       "      <td>1</td>\n",
       "      <td>1</td>\n",
       "      <td>...</td>\n",
       "      <td>1</td>\n",
       "      <td>80</td>\n",
       "      <td>0</td>\n",
       "      <td>8</td>\n",
       "      <td>0</td>\n",
       "      <td>1</td>\n",
       "      <td>6</td>\n",
       "      <td>4</td>\n",
       "      <td>0</td>\n",
       "      <td>5</td>\n",
       "    </tr>\n",
       "    <tr>\n",
       "      <th>1</th>\n",
       "      <td>49</td>\n",
       "      <td>No</td>\n",
       "      <td>Travel_Frequently</td>\n",
       "      <td>279</td>\n",
       "      <td>Research &amp; Development</td>\n",
       "      <td>8</td>\n",
       "      <td>1</td>\n",
       "      <td>Life Sciences</td>\n",
       "      <td>1</td>\n",
       "      <td>2</td>\n",
       "      <td>...</td>\n",
       "      <td>4</td>\n",
       "      <td>80</td>\n",
       "      <td>1</td>\n",
       "      <td>10</td>\n",
       "      <td>3</td>\n",
       "      <td>3</td>\n",
       "      <td>10</td>\n",
       "      <td>7</td>\n",
       "      <td>1</td>\n",
       "      <td>7</td>\n",
       "    </tr>\n",
       "    <tr>\n",
       "      <th>2</th>\n",
       "      <td>37</td>\n",
       "      <td>Yes</td>\n",
       "      <td>Travel_Rarely</td>\n",
       "      <td>1373</td>\n",
       "      <td>Research &amp; Development</td>\n",
       "      <td>2</td>\n",
       "      <td>2</td>\n",
       "      <td>Other</td>\n",
       "      <td>1</td>\n",
       "      <td>4</td>\n",
       "      <td>...</td>\n",
       "      <td>2</td>\n",
       "      <td>80</td>\n",
       "      <td>0</td>\n",
       "      <td>7</td>\n",
       "      <td>3</td>\n",
       "      <td>3</td>\n",
       "      <td>0</td>\n",
       "      <td>0</td>\n",
       "      <td>0</td>\n",
       "      <td>0</td>\n",
       "    </tr>\n",
       "    <tr>\n",
       "      <th>3</th>\n",
       "      <td>33</td>\n",
       "      <td>No</td>\n",
       "      <td>Travel_Frequently</td>\n",
       "      <td>1392</td>\n",
       "      <td>Research &amp; Development</td>\n",
       "      <td>3</td>\n",
       "      <td>4</td>\n",
       "      <td>Life Sciences</td>\n",
       "      <td>1</td>\n",
       "      <td>5</td>\n",
       "      <td>...</td>\n",
       "      <td>3</td>\n",
       "      <td>80</td>\n",
       "      <td>0</td>\n",
       "      <td>8</td>\n",
       "      <td>3</td>\n",
       "      <td>3</td>\n",
       "      <td>8</td>\n",
       "      <td>7</td>\n",
       "      <td>3</td>\n",
       "      <td>0</td>\n",
       "    </tr>\n",
       "    <tr>\n",
       "      <th>4</th>\n",
       "      <td>27</td>\n",
       "      <td>No</td>\n",
       "      <td>Travel_Rarely</td>\n",
       "      <td>591</td>\n",
       "      <td>Research &amp; Development</td>\n",
       "      <td>2</td>\n",
       "      <td>1</td>\n",
       "      <td>Medical</td>\n",
       "      <td>1</td>\n",
       "      <td>7</td>\n",
       "      <td>...</td>\n",
       "      <td>4</td>\n",
       "      <td>80</td>\n",
       "      <td>1</td>\n",
       "      <td>6</td>\n",
       "      <td>3</td>\n",
       "      <td>3</td>\n",
       "      <td>2</td>\n",
       "      <td>2</td>\n",
       "      <td>2</td>\n",
       "      <td>2</td>\n",
       "    </tr>\n",
       "  </tbody>\n",
       "</table>\n",
       "<p>5 rows × 35 columns</p>\n",
       "</div>"
      ],
      "text/plain": [
       "   Age Attrition     BusinessTravel  DailyRate              Department  \\\n",
       "0   41       Yes      Travel_Rarely       1102                   Sales   \n",
       "1   49        No  Travel_Frequently        279  Research & Development   \n",
       "2   37       Yes      Travel_Rarely       1373  Research & Development   \n",
       "3   33        No  Travel_Frequently       1392  Research & Development   \n",
       "4   27        No      Travel_Rarely        591  Research & Development   \n",
       "\n",
       "   DistanceFromHome  Education EducationField  EmployeeCount  EmployeeNumber  \\\n",
       "0                 1          2  Life Sciences              1               1   \n",
       "1                 8          1  Life Sciences              1               2   \n",
       "2                 2          2          Other              1               4   \n",
       "3                 3          4  Life Sciences              1               5   \n",
       "4                 2          1        Medical              1               7   \n",
       "\n",
       "   ...  RelationshipSatisfaction StandardHours  StockOptionLevel  \\\n",
       "0  ...                         1            80                 0   \n",
       "1  ...                         4            80                 1   \n",
       "2  ...                         2            80                 0   \n",
       "3  ...                         3            80                 0   \n",
       "4  ...                         4            80                 1   \n",
       "\n",
       "   TotalWorkingYears  TrainingTimesLastYear WorkLifeBalance  YearsAtCompany  \\\n",
       "0                  8                      0               1               6   \n",
       "1                 10                      3               3              10   \n",
       "2                  7                      3               3               0   \n",
       "3                  8                      3               3               8   \n",
       "4                  6                      3               3               2   \n",
       "\n",
       "  YearsInCurrentRole  YearsSinceLastPromotion  YearsWithCurrManager  \n",
       "0                  4                        0                     5  \n",
       "1                  7                        1                     7  \n",
       "2                  0                        0                     0  \n",
       "3                  7                        3                     0  \n",
       "4                  2                        2                     2  \n",
       "\n",
       "[5 rows x 35 columns]"
      ]
     },
     "execution_count": 5,
     "metadata": {},
     "output_type": "execute_result"
    }
   ],
   "source": [
    "df.head()"
   ]
  },
  {
   "cell_type": "markdown",
   "id": "bfdf10d3",
   "metadata": {},
   "source": [
    "Out of the 35 variables, there exists one target variable 'Attrition' with possible outcomes Yes and No. The other 34 variables are independent variables."
   ]
  },
  {
   "cell_type": "markdown",
   "id": "18a14564",
   "metadata": {},
   "source": [
    "### Checking for missing values"
   ]
  },
  {
   "cell_type": "code",
   "execution_count": 6,
   "id": "309485da",
   "metadata": {},
   "outputs": [
    {
     "data": {
      "text/plain": [
       "Age                         0\n",
       "Attrition                   0\n",
       "BusinessTravel              0\n",
       "DailyRate                   0\n",
       "Department                  0\n",
       "DistanceFromHome            0\n",
       "Education                   0\n",
       "EducationField              0\n",
       "EmployeeCount               0\n",
       "EmployeeNumber              0\n",
       "EnvironmentSatisfaction     0\n",
       "Gender                      0\n",
       "HourlyRate                  0\n",
       "JobInvolvement              0\n",
       "JobLevel                    0\n",
       "JobRole                     0\n",
       "JobSatisfaction             0\n",
       "MaritalStatus               0\n",
       "MonthlyIncome               0\n",
       "MonthlyRate                 0\n",
       "NumCompaniesWorked          0\n",
       "Over18                      0\n",
       "OverTime                    0\n",
       "PercentSalaryHike           0\n",
       "PerformanceRating           0\n",
       "RelationshipSatisfaction    0\n",
       "StandardHours               0\n",
       "StockOptionLevel            0\n",
       "TotalWorkingYears           0\n",
       "TrainingTimesLastYear       0\n",
       "WorkLifeBalance             0\n",
       "YearsAtCompany              0\n",
       "YearsInCurrentRole          0\n",
       "YearsSinceLastPromotion     0\n",
       "YearsWithCurrManager        0\n",
       "dtype: int64"
      ]
     },
     "execution_count": 6,
     "metadata": {},
     "output_type": "execute_result"
    }
   ],
   "source": [
    "# to check the missing values\n",
    "df.isnull().sum()"
   ]
  },
  {
   "cell_type": "markdown",
   "id": "ccabc912",
   "metadata": {},
   "source": [
    "So, we can see that there are no missing values in the dataset. "
   ]
  },
  {
   "cell_type": "markdown",
   "id": "44fb4141",
   "metadata": {},
   "source": [
    "### Removing irrelevant columns"
   ]
  },
  {
   "cell_type": "markdown",
   "id": "e62fff46",
   "metadata": {},
   "source": [
    "In the dataset there are 4 irrelevant columns, i.e:EmployeeCount, EmployeeNumber, Over18 and StandardHour. So, we have to remove these for more accuracy."
   ]
  },
  {
   "cell_type": "code",
   "execution_count": 7,
   "id": "1f20fc17",
   "metadata": {},
   "outputs": [
    {
     "name": "stdout",
     "output_type": "stream",
     "text": [
      "(1470, 31)\n"
     ]
    }
   ],
   "source": [
    "df.drop('EmployeeCount', axis = 1, inplace = True)\n",
    "df.drop('StandardHours', axis = 1, inplace = True)\n",
    "df.drop('EmployeeNumber', axis = 1, inplace = True)\n",
    "df.drop('Over18', axis = 1, inplace = True)\n",
    "print(df.shape)"
   ]
  },
  {
   "cell_type": "markdown",
   "id": "5691c4b6",
   "metadata": {},
   "source": [
    "### Checking outliers"
   ]
  },
  {
   "cell_type": "code",
   "execution_count": 8,
   "id": "3b4803cc",
   "metadata": {},
   "outputs": [
    {
     "data": {
      "text/plain": [
       "['Age',\n",
       " 'DailyRate',\n",
       " 'DistanceFromHome',\n",
       " 'Education',\n",
       " 'EnvironmentSatisfaction',\n",
       " 'HourlyRate',\n",
       " 'JobInvolvement',\n",
       " 'JobLevel',\n",
       " 'JobSatisfaction',\n",
       " 'MonthlyIncome',\n",
       " 'MonthlyRate',\n",
       " 'NumCompaniesWorked',\n",
       " 'PercentSalaryHike',\n",
       " 'PerformanceRating',\n",
       " 'RelationshipSatisfaction',\n",
       " 'StockOptionLevel',\n",
       " 'TotalWorkingYears',\n",
       " 'TrainingTimesLastYear',\n",
       " 'WorkLifeBalance',\n",
       " 'YearsAtCompany',\n",
       " 'YearsInCurrentRole',\n",
       " 'YearsSinceLastPromotion',\n",
       " 'YearsWithCurrManager']"
      ]
     },
     "execution_count": 8,
     "metadata": {},
     "output_type": "execute_result"
    }
   ],
   "source": [
    "# to check numeric columns\n",
    "num_cols = df.select_dtypes(include=np.number).columns.tolist()\n",
    "num_cols"
   ]
  },
  {
   "cell_type": "markdown",
   "id": "3a95eab8",
   "metadata": {},
   "source": [
    "To remove catgeorical columns like Education, EnvironmentSatisfaction, WorkLifeBalance from above num_cols"
   ]
  },
  {
   "cell_type": "code",
   "execution_count": 9,
   "id": "3ee3569b",
   "metadata": {},
   "outputs": [],
   "source": [
    "cols_to_be_removed = ['Education','EnvironmentSatisfaction','JobInvolvement','JobLevel','JobSatisfaction',\n",
    "                      'PerformanceRating','RelationshipSatisfaction','WorkLifeBalance','StockOptionLevel']\n",
    "num_cols_final = list (set(num_cols) - set(cols_to_be_removed))"
   ]
  },
  {
   "cell_type": "code",
   "execution_count": 10,
   "id": "11cf5a8c",
   "metadata": {},
   "outputs": [
    {
     "data": {
      "text/plain": [
       "['MonthlyIncome',\n",
       " 'DailyRate',\n",
       " 'HourlyRate',\n",
       " 'YearsInCurrentRole',\n",
       " 'YearsAtCompany',\n",
       " 'TrainingTimesLastYear',\n",
       " 'MonthlyRate',\n",
       " 'YearsSinceLastPromotion',\n",
       " 'TotalWorkingYears',\n",
       " 'YearsWithCurrManager',\n",
       " 'Age',\n",
       " 'DistanceFromHome',\n",
       " 'PercentSalaryHike',\n",
       " 'NumCompaniesWorked']"
      ]
     },
     "execution_count": 10,
     "metadata": {},
     "output_type": "execute_result"
    }
   ],
   "source": [
    "num_cols_final"
   ]
  },
  {
   "cell_type": "markdown",
   "id": "fe5eb591",
   "metadata": {},
   "source": [
    "Creating boxplots to check for outliers for the above num variables"
   ]
  },
  {
   "cell_type": "code",
   "execution_count": 11,
   "id": "26629bdb",
   "metadata": {},
   "outputs": [
    {
     "data": {
      "image/png": "[encoded data removed]",
      "text/plain": [
       "<Figure size 720x1080 with 15 Axes>"
      ]
     },
     "metadata": {
      "needs_background": "light"
     },
     "output_type": "display_data"
    }
   ],
   "source": [
    "# initialize figure with 4 subplots in a row\n",
    "fig, (ax1,ax2,ax3) = plt.subplots(3, 5, figsize=(10, 15))\n",
    "\n",
    "# add padding between the subplots\n",
    "plt.subplots_adjust(wspace=0.5) \n",
    "\n",
    "# draw boxplot for age in the 1st subplot\n",
    "sns.boxplot(data=df['Age'], ax=ax1[0], color='g',)\n",
    "ax1[0].set_xlabel('Age')\n",
    "\n",
    "# draw boxplot for DistanceFromHome in the 2nd subplot\n",
    "sns.boxplot(data=df['DistanceFromHome'], ax=ax1[1], color='g')\n",
    "ax1[1].set_xlabel('DistanceFromHome')\n",
    "\n",
    "# draw boxplot for NumCompaniesWorked in the 3rd subplot\n",
    "sns.boxplot(data=df['NumCompaniesWorked'], ax=ax1[2], color='g')\n",
    "ax1[2].set_xlabel('NumCompaniesWorked')\n",
    "\n",
    "# draw boxplot for TrainingTimesLastYea in the 4th subplot\n",
    "sns.boxplot(data=df['TrainingTimesLastYear'], ax=ax1[3], color='g')\n",
    "ax1[3].set_xlabel('TrainingTimesLastYear')\n",
    "\n",
    "# draw boxplot for StandardHours in the 5th subplot\n",
    "#sns.boxplot(data=df['StandardHours'], ax=ax1[4], color='g')\n",
    "#ax1[4].set_xlabel('StandardHours')\n",
    "\n",
    "\n",
    "\n",
    "# draw boxplot for MonthlyIncome in the 1st subplot\n",
    "sns.boxplot(data=df['MonthlyIncome'], ax=ax2[0], color='g')\n",
    "ax2[0].set_xlabel('MonthlyIncome')\n",
    "\n",
    "# draw boxplot for PercentSalaryHike in the 2nd subplot\n",
    "sns.boxplot(data=df['PercentSalaryHike'], ax=ax2[1], color='g')\n",
    "ax2[1].set_xlabel('PercentSalaryHike')\n",
    "\n",
    "# draw boxplot for HourlyRate in the 3rd subplot\n",
    "sns.boxplot(data=df['HourlyRate'], ax=ax2[2], color='g')\n",
    "ax2[2].set_xlabel('HourlyRate')\n",
    "\n",
    "# draw boxplot for DailyRate in the 4th subplot\n",
    "sns.boxplot(data=df['DailyRate'], ax=ax2[3], color='g')\n",
    "ax2[3].set_xlabel('DailyRate')\n",
    "\n",
    "# draw boxplot for MonthlyRate in the 5th subplot\n",
    "sns.boxplot(data=df['MonthlyRate'], ax=ax2[4], color='g')\n",
    "ax2[4].set_xlabel('MonthlyRate')\n",
    "\n",
    "\n",
    "\n",
    "# draw boxplot for YearsSinceLastPromotion in the 1st subplot\n",
    "sns.boxplot(data=df['YearsSinceLastPromotion'], ax=ax3[0], color='g',)\n",
    "ax3[0].set_xlabel('YearsSinceLastPromotion')\n",
    "\n",
    "# draw boxplot for YearsInCurrentRole in the 2nd subplot\n",
    "sns.boxplot(data=df['YearsInCurrentRole'], ax=ax3[1], color='g')\n",
    "ax3[1].set_xlabel('YearsInCurrentRole')\n",
    "\n",
    "# draw boxplot for YearsWithCurrManager in the 3rd subplot\n",
    "sns.boxplot(data=df['YearsWithCurrManager'], ax=ax3[2], color='g')\n",
    "ax3[2].set_xlabel('YearsWithCurrManager')\n",
    "\n",
    "# draw boxplot for YearsAtCompany in the 4th subplot\n",
    "sns.boxplot(data=df['YearsAtCompany'], ax=ax3[3], color='g')\n",
    "ax3[3].set_xlabel('YearsAtCompany')\n",
    "\n",
    "# draw boxplot for TotalWorkingYears in the 5th subplot\n",
    "sns.boxplot(data=df['TotalWorkingYears'], ax=ax3[4], color='g')\n",
    "ax3[4].set_xlabel('TotalWorkingYears')\n",
    "\n",
    "\n",
    "\n",
    "# by default, you'll see x-tick label set to 0 in each subplot\n",
    "# remove it by setting it to empty list\n",
    "for subplot in ax1:\n",
    "    subplot.set_xticklabels([])\n",
    "    \n",
    "plt.show()"
   ]
  },
  {
   "cell_type": "markdown",
   "id": "99107269",
   "metadata": {},
   "source": [
    "**Observations**:\n",
    "\n",
    "1. StandardHours don't have any variation. All the observations have same value.\n",
    "\n",
    "2. Age, DailyRate, DistanceFromHome, HourlyRate, MonthlyRate, DailyRate, PercentSalaryHike tend not to have any outliers.\n",
    "\n",
    "3. NumCompaniesWorked, TrainingTimesLastYear, YearsWithCurrManager, YearsInCurrentRole have a moderate number of outliers.\n",
    "\n",
    "4. MonthlyIncome, TotalWorkingYears, YearsAtCompany, YearsSinceLastPromotion have large number of outliers."
   ]
  },
  {
   "cell_type": "markdown",
   "id": "e3e8b6b9",
   "metadata": {},
   "source": [
    "# Pre-Processing"
   ]
  },
  {
   "cell_type": "code",
   "execution_count": 12,
   "id": "0002f967",
   "metadata": {},
   "outputs": [],
   "source": [
    "a = df[num_cols_final]"
   ]
  },
  {
   "cell_type": "code",
   "execution_count": 13,
   "id": "c123b98d",
   "metadata": {},
   "outputs": [
    {
     "data": {
      "text/plain": [
       "MonthlyIncome               5130\n",
       "DailyRate                    279\n",
       "HourlyRate                    61\n",
       "YearsInCurrentRole             7\n",
       "YearsAtCompany                10\n",
       "TrainingTimesLastYear          3\n",
       "MonthlyRate                24907\n",
       "YearsSinceLastPromotion        1\n",
       "TotalWorkingYears             10\n",
       "YearsWithCurrManager           7\n",
       "Age                           49\n",
       "DistanceFromHome               8\n",
       "PercentSalaryHike             23\n",
       "NumCompaniesWorked             1\n",
       "Name: 1, dtype: int64"
      ]
     },
     "execution_count": 13,
     "metadata": {},
     "output_type": "execute_result"
    }
   ],
   "source": [
    "a.iloc[1,:]"
   ]
  },
  {
   "cell_type": "code",
   "execution_count": 14,
   "id": "6d3f76f1",
   "metadata": {},
   "outputs": [
    {
     "name": "stdout",
     "output_type": "stream",
     "text": [
      "p value is 0.0\n",
      "Dependent (reject H0)\n"
     ]
    }
   ],
   "source": [
    "from scipy.stats import chi2_contingency\n",
    "  \n",
    "# defining the table\n",
    "data = [a.iloc[1,:], a.iloc[2,:]]\n",
    "stat, p, dof, expected = chi2_contingency(data)\n",
    "  \n",
    "# interpret p-value\n",
    "alpha = 0.05\n",
    "print(\"p value is \" + str(p))\n",
    "if p <= alpha:\n",
    "    print('Dependent (reject H0)')\n",
    "else:\n",
    "    print('Independent (H0 holds true)')"
   ]
  },
  {
   "cell_type": "code",
   "execution_count": 15,
   "id": "2cd84384",
   "metadata": {
    "scrolled": true
   },
   "outputs": [
    {
     "data": {
      "image/png": "[encoded data removed]",
      "text/plain": [
       "<Figure size 864x864 with 2 Axes>"
      ]
     },
     "metadata": {
      "needs_background": "light"
     },
     "output_type": "display_data"
    }
   ],
   "source": [
    "# plotting correlation heatmap\n",
    "fig = plt.figure(figsize=(12, 12))\n",
    "dataplot = sns.heatmap(df[num_cols_final].corr(), cmap=\"YlGnBu\", annot=True)\n",
    "  \n",
    "# displaying heatmap\n",
    "plt.show()"
   ]
  },
  {
   "cell_type": "code",
   "execution_count": 16,
   "id": "082cfcea",
   "metadata": {},
   "outputs": [],
   "source": [
    "# Make explanatory and target variable\n",
    "X = df.drop('Attrition', axis=1)\n",
    "y = df.Attrition"
   ]
  },
  {
   "cell_type": "code",
   "execution_count": 17,
   "id": "819c2bce",
   "metadata": {},
   "outputs": [
    {
     "data": {
      "text/plain": [
       "0       1\n",
       "1       0\n",
       "2       1\n",
       "3       0\n",
       "4       0\n",
       "       ..\n",
       "1465    0\n",
       "1466    0\n",
       "1467    0\n",
       "1468    0\n",
       "1469    0\n",
       "Name: Attrition, Length: 1470, dtype: int64"
      ]
     },
     "execution_count": 17,
     "metadata": {},
     "output_type": "execute_result"
    }
   ],
   "source": [
    "# Label encode target variable\n",
    "y = df['Attrition'].apply(lambda x: 1 if x=='Yes' else 0)\n",
    "y"
   ]
  },
  {
   "cell_type": "code",
   "execution_count": 18,
   "id": "5efa366e",
   "metadata": {},
   "outputs": [
    {
     "data": {
      "text/plain": [
       "(1470, 30)"
      ]
     },
     "execution_count": 18,
     "metadata": {},
     "output_type": "execute_result"
    }
   ],
   "source": [
    "X.shape"
   ]
  },
  {
   "cell_type": "code",
   "execution_count": 19,
   "id": "2a5d42fa",
   "metadata": {},
   "outputs": [],
   "source": [
    "# Convert rest of categorical variables into dummies\n",
    "X = pd.get_dummies(X, drop_first=True)"
   ]
  },
  {
   "cell_type": "code",
   "execution_count": 20,
   "id": "60cb23d4",
   "metadata": {},
   "outputs": [
    {
     "data": {
      "text/plain": [
       "(1470, 44)"
      ]
     },
     "execution_count": 20,
     "metadata": {},
     "output_type": "execute_result"
    }
   ],
   "source": [
    "X.shape"
   ]
  },
  {
   "cell_type": "markdown",
   "id": "46351f01",
   "metadata": {},
   "source": [
    "### Split Data into Training and Testing Subsets "
   ]
  },
  {
   "cell_type": "code",
   "execution_count": 21,
   "id": "b212327c",
   "metadata": {},
   "outputs": [],
   "source": [
    "# Split into train/test data sets with stratification of target variable\n",
    "X_train, X_test, y_train, y_test = train_test_split(X, y, \n",
    "                                                    test_size=0.30, \n",
    "                                                    random_state=24,\n",
    "                                                    stratify = y)"
   ]
  },
  {
   "cell_type": "markdown",
   "id": "1f856676",
   "metadata": {},
   "source": [
    "## Scaling Features"
   ]
  },
  {
   "cell_type": "code",
   "execution_count": 22,
   "id": "a4d9ea1a",
   "metadata": {},
   "outputs": [
    {
     "data": {
      "text/plain": [
       "StandardScaler()"
      ]
     },
     "execution_count": 22,
     "metadata": {},
     "output_type": "execute_result"
    }
   ],
   "source": [
    "# Make Scaler object\n",
    "scaler = StandardScaler()\n",
    "# Fit scaler based on training data\n",
    "scaler.fit(X_train[num_cols_final].values)"
   ]
  },
  {
   "cell_type": "code",
   "execution_count": 23,
   "id": "49c4f30c",
   "metadata": {},
   "outputs": [],
   "source": [
    "# Transform training and test data using training fitted scaler\n",
    "X_train[num_cols_final]= scaler.transform(X_train[num_cols_final].values)\n",
    "X_test[num_cols_final]= scaler.transform(X_test[num_cols_final].values)"
   ]
  },
  {
   "cell_type": "code",
   "execution_count": 24,
   "id": "dd7d2a34",
   "metadata": {},
   "outputs": [
    {
     "data": {
      "text/html": [
       "<div>\n",
       "<style scoped>\n",
       "    .dataframe tbody tr th:only-of-type {\n",
       "        vertical-align: middle;\n",
       "    }\n",
       "\n",
       "    .dataframe tbody tr th {\n",
       "        vertical-align: top;\n",
       "    }\n",
       "\n",
       "    .dataframe thead th {\n",
       "        text-align: right;\n",
       "    }\n",
       "</style>\n",
       "<table border=\"1\" class=\"dataframe\">\n",
       "  <thead>\n",
       "    <tr style=\"text-align: right;\">\n",
       "      <th></th>\n",
       "      <th>Age</th>\n",
       "      <th>DailyRate</th>\n",
       "      <th>DistanceFromHome</th>\n",
       "      <th>Education</th>\n",
       "      <th>EnvironmentSatisfaction</th>\n",
       "      <th>HourlyRate</th>\n",
       "      <th>JobInvolvement</th>\n",
       "      <th>JobLevel</th>\n",
       "      <th>JobSatisfaction</th>\n",
       "      <th>MonthlyIncome</th>\n",
       "      <th>...</th>\n",
       "      <th>JobRole_Laboratory Technician</th>\n",
       "      <th>JobRole_Manager</th>\n",
       "      <th>JobRole_Manufacturing Director</th>\n",
       "      <th>JobRole_Research Director</th>\n",
       "      <th>JobRole_Research Scientist</th>\n",
       "      <th>JobRole_Sales Executive</th>\n",
       "      <th>JobRole_Sales Representative</th>\n",
       "      <th>MaritalStatus_Married</th>\n",
       "      <th>MaritalStatus_Single</th>\n",
       "      <th>OverTime_Yes</th>\n",
       "    </tr>\n",
       "  </thead>\n",
       "  <tbody>\n",
       "    <tr>\n",
       "      <th>1413</th>\n",
       "      <td>-1.307746</td>\n",
       "      <td>0.455222</td>\n",
       "      <td>-0.901268</td>\n",
       "      <td>1</td>\n",
       "      <td>4</td>\n",
       "      <td>-0.435093</td>\n",
       "      <td>3</td>\n",
       "      <td>1</td>\n",
       "      <td>3</td>\n",
       "      <td>-0.543169</td>\n",
       "      <td>...</td>\n",
       "      <td>1</td>\n",
       "      <td>0</td>\n",
       "      <td>0</td>\n",
       "      <td>0</td>\n",
       "      <td>0</td>\n",
       "      <td>0</td>\n",
       "      <td>0</td>\n",
       "      <td>0</td>\n",
       "      <td>0</td>\n",
       "      <td>1</td>\n",
       "    </tr>\n",
       "    <tr>\n",
       "      <th>918</th>\n",
       "      <td>1.558198</td>\n",
       "      <td>-1.366881</td>\n",
       "      <td>-0.058282</td>\n",
       "      <td>3</td>\n",
       "      <td>4</td>\n",
       "      <td>0.845346</td>\n",
       "      <td>3</td>\n",
       "      <td>5</td>\n",
       "      <td>2</td>\n",
       "      <td>2.768264</td>\n",
       "      <td>...</td>\n",
       "      <td>0</td>\n",
       "      <td>1</td>\n",
       "      <td>0</td>\n",
       "      <td>0</td>\n",
       "      <td>0</td>\n",
       "      <td>0</td>\n",
       "      <td>0</td>\n",
       "      <td>0</td>\n",
       "      <td>0</td>\n",
       "      <td>1</td>\n",
       "    </tr>\n",
       "    <tr>\n",
       "      <th>150</th>\n",
       "      <td>0.345683</td>\n",
       "      <td>1.484464</td>\n",
       "      <td>1.988970</td>\n",
       "      <td>3</td>\n",
       "      <td>2</td>\n",
       "      <td>-0.582836</td>\n",
       "      <td>3</td>\n",
       "      <td>2</td>\n",
       "      <td>2</td>\n",
       "      <td>-0.203470</td>\n",
       "      <td>...</td>\n",
       "      <td>0</td>\n",
       "      <td>0</td>\n",
       "      <td>0</td>\n",
       "      <td>0</td>\n",
       "      <td>1</td>\n",
       "      <td>0</td>\n",
       "      <td>0</td>\n",
       "      <td>0</td>\n",
       "      <td>0</td>\n",
       "      <td>0</td>\n",
       "    </tr>\n",
       "    <tr>\n",
       "      <th>124</th>\n",
       "      <td>-0.646375</td>\n",
       "      <td>-1.337334</td>\n",
       "      <td>-0.419562</td>\n",
       "      <td>4</td>\n",
       "      <td>2</td>\n",
       "      <td>0.500613</td>\n",
       "      <td>1</td>\n",
       "      <td>2</td>\n",
       "      <td>3</td>\n",
       "      <td>-0.085160</td>\n",
       "      <td>...</td>\n",
       "      <td>0</td>\n",
       "      <td>0</td>\n",
       "      <td>0</td>\n",
       "      <td>0</td>\n",
       "      <td>0</td>\n",
       "      <td>1</td>\n",
       "      <td>0</td>\n",
       "      <td>1</td>\n",
       "      <td>0</td>\n",
       "      <td>1</td>\n",
       "    </tr>\n",
       "    <tr>\n",
       "      <th>846</th>\n",
       "      <td>-0.205460</td>\n",
       "      <td>0.066178</td>\n",
       "      <td>-0.901268</td>\n",
       "      <td>3</td>\n",
       "      <td>3</td>\n",
       "      <td>-1.075312</td>\n",
       "      <td>2</td>\n",
       "      <td>3</td>\n",
       "      <td>2</td>\n",
       "      <td>0.770763</td>\n",
       "      <td>...</td>\n",
       "      <td>0</td>\n",
       "      <td>0</td>\n",
       "      <td>1</td>\n",
       "      <td>0</td>\n",
       "      <td>0</td>\n",
       "      <td>0</td>\n",
       "      <td>0</td>\n",
       "      <td>0</td>\n",
       "      <td>0</td>\n",
       "      <td>0</td>\n",
       "    </tr>\n",
       "  </tbody>\n",
       "</table>\n",
       "<p>5 rows × 44 columns</p>\n",
       "</div>"
      ],
      "text/plain": [
       "           Age  DailyRate  DistanceFromHome  Education  \\\n",
       "1413 -1.307746   0.455222         -0.901268          1   \n",
       "918   1.558198  -1.366881         -0.058282          3   \n",
       "150   0.345683   1.484464          1.988970          3   \n",
       "124  -0.646375  -1.337334         -0.419562          4   \n",
       "846  -0.205460   0.066178         -0.901268          3   \n",
       "\n",
       "      EnvironmentSatisfaction  HourlyRate  JobInvolvement  JobLevel  \\\n",
       "1413                        4   -0.435093               3         1   \n",
       "918                         4    0.845346               3         5   \n",
       "150                         2   -0.582836               3         2   \n",
       "124                         2    0.500613               1         2   \n",
       "846                         3   -1.075312               2         3   \n",
       "\n",
       "      JobSatisfaction  MonthlyIncome  ...  JobRole_Laboratory Technician  \\\n",
       "1413                3      -0.543169  ...                              1   \n",
       "918                 2       2.768264  ...                              0   \n",
       "150                 2      -0.203470  ...                              0   \n",
       "124                 3      -0.085160  ...                              0   \n",
       "846                 2       0.770763  ...                              0   \n",
       "\n",
       "      JobRole_Manager  JobRole_Manufacturing Director  \\\n",
       "1413                0                               0   \n",
       "918                 1                               0   \n",
       "150                 0                               0   \n",
       "124                 0                               0   \n",
       "846                 0                               1   \n",
       "\n",
       "      JobRole_Research Director  JobRole_Research Scientist  \\\n",
       "1413                          0                           0   \n",
       "918                           0                           0   \n",
       "150                           0                           1   \n",
       "124                           0                           0   \n",
       "846                           0                           0   \n",
       "\n",
       "      JobRole_Sales Executive  JobRole_Sales Representative  \\\n",
       "1413                        0                             0   \n",
       "918                         0                             0   \n",
       "150                         0                             0   \n",
       "124                         1                             0   \n",
       "846                         0                             0   \n",
       "\n",
       "      MaritalStatus_Married  MaritalStatus_Single  OverTime_Yes  \n",
       "1413                      0                     0             1  \n",
       "918                       0                     0             1  \n",
       "150                       0                     0             0  \n",
       "124                       1                     0             1  \n",
       "846                       0                     0             0  \n",
       "\n",
       "[5 rows x 44 columns]"
      ]
     },
     "execution_count": 24,
     "metadata": {},
     "output_type": "execute_result"
    }
   ],
   "source": [
    "# View new scaled df appearance\n",
    "X_train.head()"
   ]
  },
  {
   "cell_type": "markdown",
   "id": "36355cc2",
   "metadata": {},
   "source": [
    "# Modeling"
   ]
  },
  {
   "cell_type": "code",
   "execution_count": 25,
   "id": "676c2df1",
   "metadata": {},
   "outputs": [],
   "source": [
    "# Define function for evaluation reports\n",
    "def print_score(clf, X_train, y_train, X_test, y_test):        \n",
    "        pred = clf.predict(X_test_scaled)\n",
    "        clf_report = classification_report(y_test, pred)\n",
    "        print(\"Testing Result:\\n================================================\")\n",
    "        print(f\"Accuracy Score: {accuracy_score(y_test, pred) * 100:.2f}%\")\n",
    "        print(\"_______________________________________________\")\n",
    "        print(f\"CLASSIFICATION REPORT:\\n{clf_report}\")\n",
    "        print(\"_______________________________________________\")\n",
    "        print(f\"Confusion Matrix: \\n {confusion_matrix(y_test, pred)}\\n\")"
   ]
  },
  {
   "cell_type": "markdown",
   "id": "3e891e73",
   "metadata": {},
   "source": [
    "## Logistic Regression "
   ]
  },
  {
   "cell_type": "code",
   "execution_count": null,
   "id": "2a8a030e",
   "metadata": {},
   "outputs": [],
   "source": [
    "# Create a logistic regression object\n",
    "log_reg = LogisticRegression(solver = 'liblinear', max_iter = 500)\n",
    "# Fit model to training set\n",
    "log_reg.fit(X_train, y_train)\n",
    "# Use fitted model to make predictions on training and test data\n",
    "y_pred = log_reg.predict(X_test)"
   ]
  },
  {
   "cell_type": "code",
   "execution_count": null,
   "id": "e3a516ee",
   "metadata": {},
   "outputs": [],
   "source": []
  }
 ],
 "metadata": {
  "kernelspec": {
   "display_name": "Python 3 (ipykernel)",
   "language": "python",
   "name": "python3"
  },
  "language_info": {
   "codemirror_mode": {
    "name": "ipython",
    "version": 3
   },
   "file_extension": ".py",
   "mimetype": "text/x-python",
   "name": "python",
   "nbconvert_exporter": "python",
   "pygments_lexer": "ipython3",
   "version": "3.9.12"
  }
 },
 "nbformat": 4,
 "nbformat_minor": 5
}
